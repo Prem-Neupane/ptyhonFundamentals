{
 "cells": [
  {
   "cell_type": "code",
   "execution_count": 54,
   "metadata": {},
   "outputs": [
    {
     "name": "stdout",
     "output_type": "stream",
     "text": [
      "12\n",
      "2\n",
      "3\n"
     ]
    }
   ],
   "source": [
    "#Basic String Operations\n",
    "\n",
    "astring = \"HelloSworld!\"\n",
    "print(len(astring)) #lengeth of the string 'len'\n",
    "print(astring.index(\"l\")) #finding index of first matching characher in the string \n",
    "print(astring.count(\"l\")) #to count the character/string-pattern in the string \n"
   ]
  },
  {
   "cell_type": "code",
   "execution_count": 55,
   "metadata": {},
   "outputs": [
    {
     "name": "stdout",
     "output_type": "stream",
     "text": [
      "loSworld\n",
      "loS\n"
     ]
    }
   ],
   "source": [
    "#slicing string\n",
    "print(astring[3:11]) #character in the string after index: before index\n",
    "print(astring[3:6:1]) # 3 means \"3rd character from the first #-3 means \"3rd character from the end"
   ]
  },
  {
   "cell_type": "code",
   "execution_count": 56,
   "metadata": {},
   "outputs": [
    {
     "name": "stdout",
     "output_type": "stream",
     "text": [
      "HELLOSWORLD!\n",
      "hellosworld!\n",
      "True\n",
      "False\n"
     ]
    }
   ],
   "source": [
    "print(astring.upper()) #to get Capitalized strings \n",
    "print(astring.lower()) #to get lower strings\n",
    "print(astring.startswith(\"Hello\")) #can be checked if string strats with certain words or characters\n",
    "print(astring.endswith(\"asdfasdfasdf\")) #only returns true or false"
   ]
  },
  {
   "cell_type": "code",
   "execution_count": 57,
   "metadata": {},
   "outputs": [
    {
     "name": "stdout",
     "output_type": "stream",
     "text": [
      "He\n",
      "\n",
      "oSwor\n",
      "d!\n"
     ]
    }
   ],
   "source": [
    "afewwords = astring.split(\"l\") #spliting string and we get array of splited array\n",
    "print(afewwords[0])\n",
    "print(afewwords[1])\n",
    "print(afewwords[2])\n",
    "print(afewwords[3])"
   ]
  },
  {
   "cell_type": "code",
   "execution_count": null,
   "metadata": {},
   "outputs": [],
   "source": []
  }
 ],
 "metadata": {
  "kernelspec": {
   "display_name": "Python 3",
   "language": "python",
   "name": "python3"
  },
  "language_info": {
   "codemirror_mode": {
    "name": "ipython",
    "version": 3
   },
   "file_extension": ".py",
   "mimetype": "text/x-python",
   "name": "python",
   "nbconvert_exporter": "python",
   "pygments_lexer": "ipython3",
   "version": "3.7.3"
  }
 },
 "nbformat": 4,
 "nbformat_minor": 2
}
