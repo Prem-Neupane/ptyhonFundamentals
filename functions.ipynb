{
 "cells": [
  {
   "cell_type": "code",
   "execution_count": 11,
   "metadata": {},
   "outputs": [
    {
     "name": "stdout",
     "output_type": "stream",
     "text": [
      "Hello From My Function!\n",
      "Hello, John Doe , From My Function!, I wish you a great year!\n",
      "3\n"
     ]
    }
   ],
   "source": [
    "#Functions\n",
    "\n",
    "def my_function():\n",
    "    print(\"Hello From My Function!\")\n",
    "\n",
    "def my_function_with_args(username, greeting):\n",
    "    print(\"Hello, %s , From My Function!, I wish you %s\"%(username, greeting))\n",
    "\n",
    "def sum_two_numbers(a, b):\n",
    "    return a + b\n",
    "\n",
    "# calling function\n",
    "my_function()\n",
    "\n",
    "#passing parameters in the functions\n",
    "my_function_with_args(\"John Doe\", \"a great year!\")\n",
    "\n",
    "# x holds the returned value \n",
    "x = sum_two_numbers(1,2)\n",
    "print(x)"
   ]
  },
  {
   "cell_type": "code",
   "execution_count": 10,
   "metadata": {},
   "outputs": [
    {
     "name": "stdout",
     "output_type": "stream",
     "text": [
      "More organized codeis a benefit of functions!\n",
      "More readable codeis a benefit of functions!\n",
      "Easier code reuseis a benefit of functions!\n",
      "Allowing programmers to share and connect code togetheris a benefit of functions!\n"
     ]
    }
   ],
   "source": [
    "# exercise \n",
    "benefits= []\n",
    "def list_benefits():\n",
    "    \n",
    "    benefits.append(\"More organized code\")\n",
    "    benefits.append(\"More readable code\")\n",
    "    benefits.append(\"Easier code reuse\")\n",
    "    benefits.append(\"Allowing programmers to share and connect code together\")\n",
    "    return benefits;\n",
    "\n",
    "# Modify this function to concatenate to each benefit - \" is a benefit of functions!\"\n",
    "def build_sentence(benefit):\n",
    "    benefit = benefit+'is a benefit of functions!'\n",
    "    return benefit \n",
    "        \n",
    "\n",
    "def name_the_benefits_of_functions():\n",
    "    list_of_benefits = list_benefits()\n",
    "    for benefit in list_of_benefits:\n",
    "        print(build_sentence(benefit))\n",
    "\n",
    "name_the_benefits_of_functions()"
   ]
  },
  {
   "cell_type": "code",
   "execution_count": 38,
   "metadata": {},
   "outputs": [
    {
     "name": "stdout",
     "output_type": "stream",
     "text": [
      "This is a message inside the class.\n"
     ]
    }
   ],
   "source": [
    "# Classes and Objects\n",
    "# very basic class structure\n",
    "class MyClass:\n",
    "    variable = \"blah\"\n",
    "\n",
    "    def function(self): #self is kind of this.(assignment operator of current class )\n",
    "        print(\"This is a message inside the class.\")\n",
    "        \n",
    "obj = MyClass();\n",
    "obj.variable      #Accessing Object variable\n",
    "obj.function()   #Accessing Object Functions\n"
   ]
  },
  {
   "cell_type": "code",
   "execution_count": null,
   "metadata": {},
   "outputs": [],
   "source": []
  }
 ],
 "metadata": {
  "kernelspec": {
   "display_name": "Python 3",
   "language": "python",
   "name": "python3"
  },
  "language_info": {
   "codemirror_mode": {
    "name": "ipython",
    "version": 3
   },
   "file_extension": ".py",
   "mimetype": "text/x-python",
   "name": "python",
   "nbconvert_exporter": "python",
   "pygments_lexer": "ipython3",
   "version": "3.7.3"
  }
 },
 "nbformat": 4,
 "nbformat_minor": 2
}
