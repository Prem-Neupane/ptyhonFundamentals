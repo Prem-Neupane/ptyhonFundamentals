{
 "cells": [
  {
   "cell_type": "code",
   "execution_count": 3,
   "metadata": {},
   "outputs": [
    {
     "name": "stdout",
     "output_type": "stream",
     "text": [
      "Your name is prem, and you are also 23 years old.\n",
      "Your name is either prem or jas.\n"
     ]
    }
   ],
   "source": [
    "#Conditions\n",
    "\n",
    "#Boolean operators #and #or\n",
    "name = \"prem\"\n",
    "age = 23\n",
    "if name == \"prem\" and age == 23:\n",
    "    print(\"Your name is prem, and you are also 23 years old.\")\n",
    "\n",
    "if name == \"prem\" or name == \"jas\":\n",
    "    print(\"Your name is either prem or jas.\")"
   ]
  },
  {
   "cell_type": "code",
   "execution_count": 5,
   "metadata": {},
   "outputs": [
    {
     "name": "stdout",
     "output_type": "stream",
     "text": [
      "Your name is either jpt or prem.\n"
     ]
    }
   ],
   "source": [
    "# in operator\n",
    "name = \"prem\"\n",
    "if name in [\"jpt\", \"prem\"]:\n",
    "    print(\"Your name is either jpt or prem.\")"
   ]
  },
  {
   "cell_type": "code",
   "execution_count": 6,
   "metadata": {},
   "outputs": [
    {
     "name": "stdout",
     "output_type": "stream",
     "text": [
      "case2 is true\n"
     ]
    }
   ],
   "source": [
    "case1 = False\n",
    "case2 = True\n",
    "if case1 is True:\n",
    "    # do something\n",
    "    print(\"case1 is true\")\n",
    "    pass\n",
    "elif case2 is True: # else if\n",
    "    # do something else\n",
    "    print(\"case2 is true\")\n",
    "    pass\n",
    "else:\n",
    "    # do another thing\n",
    "    pass"
   ]
  },
  {
   "cell_type": "code",
   "execution_count": 7,
   "metadata": {},
   "outputs": [
    {
     "name": "stdout",
     "output_type": "stream",
     "text": [
      "True\n"
     ]
    }
   ],
   "source": [
    "# not operator\n",
    "print(not False) # Prints out True"
   ]
  },
  {
   "cell_type": "code",
   "execution_count": null,
   "metadata": {},
   "outputs": [],
   "source": []
  }
 ],
 "metadata": {
  "kernelspec": {
   "display_name": "Python 3",
   "language": "python",
   "name": "python3"
  },
  "language_info": {
   "codemirror_mode": {
    "name": "ipython",
    "version": 3
   },
   "file_extension": ".py",
   "mimetype": "text/x-python",
   "name": "python",
   "nbconvert_exporter": "python",
   "pygments_lexer": "ipython3",
   "version": "3.7.3"
  }
 },
 "nbformat": 4,
 "nbformat_minor": 2
}
