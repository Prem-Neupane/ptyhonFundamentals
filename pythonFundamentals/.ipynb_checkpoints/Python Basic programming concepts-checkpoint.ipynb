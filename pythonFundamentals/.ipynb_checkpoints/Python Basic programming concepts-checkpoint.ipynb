{
 "cells": [
  {
   "cell_type": "code",
   "execution_count": 1,
   "metadata": {},
   "outputs": [
    {
     "name": "stdout",
     "output_type": "stream",
     "text": [
      "Hello World\n",
      "value of x is: 1\n",
      "1 2 3\n",
      "3\n"
     ]
    }
   ],
   "source": [
    "#learning very basic concepts through https://www.learnpython.org/\n",
    "#priniting strings and values \n",
    "print(\"Hello World\")\n",
    "x = 1\n",
    "print('value of x is:',x)\n",
    "\n",
    "# assigining variable simultaneously\n",
    "a,b,c = 1,2,3\n",
    "print(a,b,c)\n",
    "\n",
    "# we can sum up same datatypes\n",
    "one = 1\n",
    "two = 2\n",
    "three = one + two\n",
    "print(three)"
   ]
  },
  {
   "cell_type": "code",
   "execution_count": 2,
   "metadata": {},
   "outputs": [
    {
     "name": "stdout",
     "output_type": "stream",
     "text": [
      "1\n",
      "72239.32\n",
      "this is string\n"
     ]
    }
   ],
   "source": [
    "#we do not need to declare variables before using them, or declare their type. Every variable in Python is an object.\n",
    "x = 1\n",
    "print(x)\n",
    "\n",
    "float = 72239.32\n",
    "print(float)\n",
    "\n",
    "string = \"this is string\"\n",
    "print(string)"
   ]
  },
  {
   "cell_type": "code",
   "execution_count": 3,
   "metadata": {},
   "outputs": [
    {
     "name": "stdout",
     "output_type": "stream",
     "text": [
      "1 2 hello\n"
     ]
    }
   ],
   "source": [
    "# This will not work!\n",
    "one = 1\n",
    "two = 2\n",
    "hello = \"hello\"\n",
    "print(one , two , hello)"
   ]
  },
  {
   "cell_type": "code",
   "execution_count": 4,
   "metadata": {},
   "outputs": [
    {
     "name": "stdout",
     "output_type": "stream",
     "text": [
      "string is : string\n",
      "Float: 5.300000\n",
      "Integer: 5\n"
     ]
    }
   ],
   "source": [
    "# to remember %s for string , %f for float and %d for integer datatype\n",
    "mystring = \"string\"\n",
    "myint = 5\n",
    "myfloat = 5.3\n",
    "if mystring == \"string\" :\n",
    "    print(\"string is : %s\" %mystring)\n",
    "if myfloat == 5.3:\n",
    "    print(\"Float: %f\" % myfloat)\n",
    "if myint == 5:\n",
    "    print(\"Integer: %d\" % myint)"
   ]
  },
  {
   "cell_type": "code",
   "execution_count": 5,
   "metadata": {},
   "outputs": [
    {
     "name": "stdout",
     "output_type": "stream",
     "text": [
      "['item1', 'item2', 'item3', 'item4', 'item5']\n",
      "['item1', 'item2', 'item3', 'item4', 'item5', 1, 5.5, 'this is string']\n",
      "item1\n",
      "item2\n",
      "item3\n",
      "item4\n",
      "item5\n",
      "1\n",
      "5.5\n",
      "this is string\n",
      "this is string\n",
      "5.5\n",
      "1\n",
      "['item1', 'item2', 'item3', 'item4', 'item5', 1, 5.5, 'this is string']\n",
      "['item1', 'item2', 'item3', 'item4', 'item5', 1, 5.5]\n",
      "['item3', 'item4', 'item5', 1]\n"
     ]
    }
   ],
   "source": [
    "#list data-type\n",
    "mylist = ['item1','item2','item3','item4','item5']\n",
    "print(mylist)\n",
    "# we can append different variable of different data-types in list like :\n",
    "mylist.append(1)\n",
    "mylist.append(5.5)\n",
    "mylist.append('this is string')\n",
    "print(mylist)\n",
    "\n",
    "# printing out all the items of list using for loop:\n",
    "for item in mylist:\n",
    "    print(item)\n",
    "    \n",
    "#indexing in list\n",
    "#we can get item from last index using -1,-2,-3 indeices to get items form reverse indexing \n",
    "print(mylist[-1])\n",
    "print(mylist[-2])\n",
    "print(mylist[-3])\n",
    "# for all\n",
    "print(mylist[:])\n",
    "print(mylist[:-1]) #all except the last indexed item\n",
    "print(mylist[2:-2]) #items after 2nd(ie starting from second) and before secondlast "
   ]
  },
  {
   "cell_type": "code",
   "execution_count": 6,
   "metadata": {},
   "outputs": [
    {
     "name": "stdout",
     "output_type": "stream",
     "text": [
      "2.5\n",
      "2\n",
      "49\n",
      "8\n"
     ]
    }
   ],
   "source": [
    "# arithematic operators:\n",
    "number = 1 + 2 * 3 / 4.0\n",
    "print(number)\n",
    "\n",
    "remainder = 11 % 3\n",
    "print(remainder)\n",
    "\n",
    "squared = 7 ** 2\n",
    "cubed = 2 ** 3\n",
    "print(squared)\n",
    "print(cubed)"
   ]
  },
  {
   "cell_type": "code",
   "execution_count": 7,
   "metadata": {},
   "outputs": [
    {
     "name": "stdout",
     "output_type": "stream",
     "text": [
      "hello world\n"
     ]
    }
   ],
   "source": [
    "# + for string concatination\n",
    "helloworld = \"hello\" + \" \" + \"world\"\n",
    "print(helloworld)"
   ]
  },
  {
   "cell_type": "code",
   "execution_count": 8,
   "metadata": {},
   "outputs": [
    {
     "name": "stdout",
     "output_type": "stream",
     "text": [
      "[1, 3, 5, 7, 2, 4, 6, 8]\n"
     ]
    }
   ],
   "source": [
    "even_numbers = [2,4,6,8]\n",
    "odd_numbers = [1,3,5,7]\n",
    "all_numbers = odd_numbers + even_numbers\n",
    "print(all_numbers)"
   ]
  }
 ],
 "metadata": {
  "kernelspec": {
   "display_name": "Python 3",
   "language": "python",
   "name": "python3"
  },
  "language_info": {
   "codemirror_mode": {
    "name": "ipython",
    "version": 3
   },
   "file_extension": ".py",
   "mimetype": "text/x-python",
   "name": "python",
   "nbconvert_exporter": "python",
   "pygments_lexer": "ipython3",
   "version": "3.7.3"
  }
 },
 "nbformat": 4,
 "nbformat_minor": 2
}
