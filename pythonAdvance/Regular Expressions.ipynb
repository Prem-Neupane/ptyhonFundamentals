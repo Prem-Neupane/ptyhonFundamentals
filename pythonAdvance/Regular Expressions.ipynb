{
 "cells": [
  {
   "cell_type": "code",
   "execution_count": 2,
   "metadata": {},
   "outputs": [],
   "source": [
    "# Regular Expressions\n",
    "'''\n",
    " Regular Expressions (sometimes shortened to regexp, regex, or re) are a tool for matching patterns in text.\n",
    " In Python, we have the re module is used\n",
    "\n",
    " Taking an example: regex is r\"^(From|To|Cc).*?python-list@python.org\"\n",
    "    # the caret ^ matches text at the beginning of a line,\n",
    "    # (From|To|Cc) means that the line has to start with one of the words that are separated by the pipe |(vertical slash or  OR operator),\n",
    "    # The .*? means to un-greedily(to match as few repetitions as possible.) match any number of characters, except the newline \\n character, \n",
    "    # The . character means any non-newline character,\n",
    "    # the * means to repeat 0 or more times,\n",
    "    # and the ? character makes it un-greedy.\n",
    " for python 'regex Cheat-Sheet' \"  https://www.dataquest.io/blog/regex-cheatsheet/ \"\n",
    "\n",
    "    \n",
    "Popular Python re Module Functions\n",
    "re.findall(A, B) | Matches all instances of an expression A in a string B and returns them in a list.\n",
    "\n",
    "re.search(A, B) | Matches the first instance of an expression A in a string B, and returns it as a re match object.\n",
    "\n",
    "re.split(A, B) | Split a string B into a list using the delimiter A.\n",
    "\n",
    "re.sub(A, B, C) | Replace A with B in the string C.\n",
    "\n",
    "'''"
   ]
  },
  {
   "cell_type": "code",
   "execution_count": 15,
   "metadata": {},
   "outputs": [
    {
     "name": "stdout",
     "output_type": "stream",
     "text": [
      "['', 'on', ' Mono: Playback 65 [75%] [-16.50dB] ', 'on', '']\n",
      "None\n"
     ]
    }
   ],
   "source": [
    "# Example: \n",
    "\n",
    "import re\n",
    "pattern = re.compile(r\"\\[(on|off)\\]\") # Slight optimization\n",
    "# print(re.search(pattern, \"Mono: Playback 65 [75%] [-16.50dB] [on]\"))\n",
    "print(re.split(pattern, \"[on] Mono: Playback 65 [75%] [-16.50dB] [on]\"))\n",
    "# Returns a Match object!\n",
    "print(re.search(pattern, \"Nada...:-(\"))\n",
    "# Doesn't return anything.\n",
    "# End Example"
   ]
  },
  {
   "cell_type": "code",
   "execution_count": 18,
   "metadata": {},
   "outputs": [
    {
     "name": "stdout",
     "output_type": "stream",
     "text": [
      "Pass\n",
      "Pass\n",
      "You failed to match wha.t.`1an?ug{}ly@email.com\n"
     ]
    }
   ],
   "source": [
    "def test_email(your_pattern):\n",
    "    pattern = re.compile(your_pattern)\n",
    "    emails = [\"john@example.com\", \"python-list@python.org\", \"wha.t.`1an?ug{}ly@email.com\"]\n",
    "    for email in emails:\n",
    "        if not re.match(pattern, email):\n",
    "            print(\"You failed to match %s\" % (email))\n",
    "        elif not your_pattern:\n",
    "            print(\"Forgot to enter a pattern!\")\n",
    "        else:\n",
    "            print(\"Pass\")\n",
    "            \n",
    "pattern = r\"(^[a-zA-Z0-9_.+-]+@[a-zA-Z0-9-]+\\.[a-zA-Z0-9-.]+$)\"\n",
    "test_email(pattern)\n",
    "\n",
    "# https://emailregex.com/   best site for email patterns source in almost every languages"
   ]
  },
  {
   "cell_type": "code",
   "execution_count": null,
   "metadata": {},
   "outputs": [],
   "source": []
  }
 ],
 "metadata": {
  "kernelspec": {
   "display_name": "Python 3",
   "language": "python",
   "name": "python3"
  },
  "language_info": {
   "codemirror_mode": {
    "name": "ipython",
    "version": 3
   },
   "file_extension": ".py",
   "mimetype": "text/x-python",
   "name": "python",
   "nbconvert_exporter": "python",
   "pygments_lexer": "ipython3",
   "version": "3.7.3"
  }
 },
 "nbformat": 4,
 "nbformat_minor": 2
}
