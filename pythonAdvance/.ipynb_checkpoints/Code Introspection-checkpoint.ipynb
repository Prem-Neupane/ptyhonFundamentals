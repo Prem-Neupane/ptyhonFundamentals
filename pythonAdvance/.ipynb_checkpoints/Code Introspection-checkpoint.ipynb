{
 "cells": [
  {
   "cell_type": "code",
   "execution_count": 1,
   "metadata": {},
   "outputs": [],
   "source": [
    "# Code Introspection\n",
    "\n",
    "# Code introspection is the ability to examine -\n",
    "# classes, functions and keywords to know what they are, what they do and what they know.\n",
    "# Python provides several functions and utilities for code introspection.\n",
    "# help()\n",
    "# dir() \n",
    "# hasattr() \n",
    "# id() \n",
    "# type() \n",
    "# repr() \n",
    "# callable() \n",
    "# issubclass() \n",
    "# isinstance() \n",
    "# __doc__ \n",
    "# __name__\n"
   ]
  },
  {
   "cell_type": "code",
   "execution_count": 5,
   "metadata": {},
   "outputs": [
    {
     "name": "stdout",
     "output_type": "stream",
     "text": [
      "Help on built-in function hasattr in module builtins:\n",
      "\n",
      "hasattr(obj, name, /)\n",
      "    Return whether the object has an attribute with the given name.\n",
      "    \n",
      "    This is done by calling getattr(obj, name) and catching AttributeError.\n",
      "\n"
     ]
    }
   ],
   "source": [
    "# Use the help function to see what each function does.\n",
    "# Delete this when you are done.\n",
    "# help(dir)\n",
    "help(hasattr)\n",
    "# help(id)\n",
    "\n",
    "# Define the Vehicle class.\n",
    "class Vehicle:\n",
    "    name = \"\"\n",
    "    kind = \"car\"\n",
    "    color = \"\"\n",
    "    value = 100.00\n",
    "    def description(self):\n",
    "        desc_str = \"%s is a %s %s worth $%.2f.\" % (self.name, self.color, self.kind, self.value)\n",
    "        return desc_str\n",
    "\n",
    "# Print a list of all attributes of the Vehicle class.\n",
    "# Your code goes here"
   ]
  },
  {
   "cell_type": "code",
   "execution_count": null,
   "metadata": {},
   "outputs": [],
   "source": []
  }
 ],
 "metadata": {
  "kernelspec": {
   "display_name": "Python 3",
   "language": "python",
   "name": "python3"
  },
  "language_info": {
   "codemirror_mode": {
    "name": "ipython",
    "version": 3
   },
   "file_extension": ".py",
   "mimetype": "text/x-python",
   "name": "python",
   "nbconvert_exporter": "python",
   "pygments_lexer": "ipython3",
   "version": "3.7.3"
  }
 },
 "nbformat": 4,
 "nbformat_minor": 2
}
