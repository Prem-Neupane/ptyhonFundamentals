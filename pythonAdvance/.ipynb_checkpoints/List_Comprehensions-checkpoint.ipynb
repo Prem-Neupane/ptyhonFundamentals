{
 "cells": [
  {
   "cell_type": "code",
   "execution_count": 1,
   "metadata": {},
   "outputs": [],
   "source": [
    "# List_Comprehensions\n",
    "# List Comprehensions is a very powerful tool, which creates a new list based on another list, in a single, readable line."
   ]
  },
  {
   "cell_type": "code",
   "execution_count": 46,
   "metadata": {},
   "outputs": [
    {
     "name": "stdout",
     "output_type": "stream",
     "text": [
      "['the', 'quick', 'borwn', 'fox', 'jumps', 'over', 'the', 'lazy', 'dog'] [3, 5, 5, 3, 5, 4, 3, 4, 3]\n"
     ]
    }
   ],
   "source": [
    "#example\n",
    "sentence = \"the quick borwn fox jumps over the lazy dog\"\n",
    "words = sentence.split()\n",
    "wordLength =[]\n",
    "\n",
    "for word in words:\n",
    "        wordLength.append(len(word))\n",
    "print(words,wordLength)\n",
    "\n",
    "# but I could not get the idea how to append in multiple dimension list"
   ]
  },
  {
   "cell_type": "code",
   "execution_count": 15,
   "metadata": {},
   "outputs": [
    {
     "name": "stdout",
     "output_type": "stream",
     "text": [
      "['the', 'quick', 'brown', 'fox', 'jumps', 'over', 'the', 'lazy', 'dog']\n",
      "[5, 5, 3, 5, 4, 4, 3]\n"
     ]
    }
   ],
   "source": [
    "sentence = \"the quick brown fox jumps over the lazy dog\"\n",
    "words = sentence.split()\n",
    "word_lengths = [len(word) for word in words if word != \"the\"]\n",
    "print(words)\n",
    "print(word_lengths)"
   ]
  },
  {
   "cell_type": "code",
   "execution_count": null,
   "metadata": {},
   "outputs": [],
   "source": []
  }
 ],
 "metadata": {
  "kernelspec": {
   "display_name": "Python 3",
   "language": "python",
   "name": "python3"
  },
  "language_info": {
   "codemirror_mode": {
    "name": "ipython",
    "version": 3
   },
   "file_extension": ".py",
   "mimetype": "text/x-python",
   "name": "python",
   "nbconvert_exporter": "python",
   "pygments_lexer": "ipython3",
   "version": "3.7.3"
  }
 },
 "nbformat": 4,
 "nbformat_minor": 2
}
