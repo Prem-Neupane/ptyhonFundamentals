{
 "cells": [
  {
   "cell_type": "code",
   "execution_count": 1,
   "metadata": {},
   "outputs": [],
   "source": [
    "# Closures\n",
    "# A Closure is a function object that remembers values in enclosing scopes even if they are not present in memory.\n"
   ]
  },
  {
   "cell_type": "code",
   "execution_count": 7,
   "metadata": {},
   "outputs": [
    {
     "name": "stdout",
     "output_type": "stream",
     "text": [
      "Test message\n",
      "None\n"
     ]
    }
   ],
   "source": [
    "def transmit_to_space(message):\n",
    "    \"This is the enclosing function\"\n",
    "    def data_transmitter():\n",
    "        \"The nested function\"\n",
    "        print(message)\n",
    "    data_transmitter()\n",
    "\n",
    "print(transmit_to_space(\"Test message\"))"
   ]
  },
  {
   "cell_type": "code",
   "execution_count": 10,
   "metadata": {},
   "outputs": [
    {
     "name": "stdout",
     "output_type": "stream",
     "text": [
      "9\n",
      "3\n",
      "3\n"
     ]
    }
   ],
   "source": [
    "def print_msg(number):\n",
    "    print(number)\n",
    "    def printer():\n",
    "        \"Here we are using the nonlocal keyword\"\n",
    "        nonlocal number\n",
    "        number=3\n",
    "        print(number)\n",
    "    printer()\n",
    "    print(number)\n",
    "\n",
    "print_msg(9)"
   ]
  },
  {
   "cell_type": "code",
   "execution_count": 14,
   "metadata": {},
   "outputs": [
    {
     "ename": "NameError",
     "evalue": "name 'JPT' is not defined",
     "output_type": "error",
     "traceback": [
      "\u001b[1;31m---------------------------------------------------------------------------\u001b[0m",
      "\u001b[1;31mNameError\u001b[0m                                 Traceback (most recent call last)",
      "\u001b[1;32m<ipython-input-14-2c777be2c6de>\u001b[0m in \u001b[0;36m<module>\u001b[1;34m\u001b[0m\n\u001b[0;32m      6\u001b[0m     \u001b[1;32mreturn\u001b[0m \u001b[0mdata_transmitter\u001b[0m\u001b[1;33m\u001b[0m\u001b[1;33m\u001b[0m\u001b[0m\n\u001b[0;32m      7\u001b[0m \u001b[1;33m\u001b[0m\u001b[0m\n\u001b[1;32m----> 8\u001b[1;33m \u001b[0mtransmit_to_space\u001b[0m\u001b[1;33m(\u001b[0m\u001b[0mJPT\u001b[0m\u001b[1;33m)\u001b[0m\u001b[1;33m\u001b[0m\u001b[1;33m\u001b[0m\u001b[0m\n\u001b[0m",
      "\u001b[1;31mNameError\u001b[0m: name 'JPT' is not defined"
     ]
    }
   ],
   "source": [
    "def transmit_to_space(message):\n",
    "    print(message=)\n",
    "    \"This is the enclosing function\"\n",
    "    def data_transmitter():\n",
    "        \"The nested function\"\n",
    "        print(message)\n",
    "    return data_transmitter\n",
    "    \n",
    "transmit_to_space(JPT)"
   ]
  },
  {
   "cell_type": "code",
   "execution_count": null,
   "metadata": {},
   "outputs": [],
   "source": []
  }
 ],
 "metadata": {
  "kernelspec": {
   "display_name": "Python 3",
   "language": "python",
   "name": "python3"
  },
  "language_info": {
   "codemirror_mode": {
    "name": "ipython",
    "version": 3
   },
   "file_extension": ".py",
   "mimetype": "text/x-python",
   "name": "python",
   "nbconvert_exporter": "python",
   "pygments_lexer": "ipython3",
   "version": "3.7.3"
  }
 },
 "nbformat": 4,
 "nbformat_minor": 2
}
