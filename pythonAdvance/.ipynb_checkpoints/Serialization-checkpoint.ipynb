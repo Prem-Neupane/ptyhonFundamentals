{
 "cells": [
  {
   "cell_type": "code",
   "execution_count": 2,
   "metadata": {},
   "outputs": [
    {
     "name": "stdout",
     "output_type": "stream",
     "text": [
      "[1, 2, 3, \"a\", \"b\", \"c\"]\n"
     ]
    }
   ],
   "source": [
    "# Serialization\n",
    "# Python provides built-in JSON libraries to encode and decode JSON.\n",
    "# In order to use the json module, it must first be imported:\n",
    "#     import json\n",
    "\n",
    "import json\n",
    "json_string = json.dumps([1, 2, 3, \"a\", \"b\", \"c\"]) #To encode a data structure to JSON, use the \"dumps\" method.\n",
    "print(json_string)"
   ]
  },
  {
   "cell_type": "code",
   "execution_count": 9,
   "metadata": {},
   "outputs": [
    {
     "name": "stdout",
     "output_type": "stream",
     "text": [
      "[1, 2, 3, 'a', 'b', 'c']\n"
     ]
    }
   ],
   "source": [
    "# Python supports a Python proprietary data serialization method called pickle (and a faster alternative called cPickle).\n",
    "import pickle\n",
    "pickled_string = pickle.dumps([1, 2, 3, \"a\", \"b\", \"c\"])\n",
    "print(pickle.loads(pickled_string))"
   ]
  },
  {
   "cell_type": "code",
   "execution_count": 80,
   "metadata": {},
   "outputs": [
    {
     "name": "stdout",
     "output_type": "stream",
     "text": [
      "300\n",
      "400\n",
      "800\n"
     ]
    }
   ],
   "source": [
    "def add_employee(salaries_json, name, salary):\n",
    "    # Add your code here\n",
    "    json_data=json.loads(salaries_json)\n",
    "    json_data[name] = salary;\n",
    "#     print(json_data)\n",
    "    salaries_json = json.dumps(json_data)\n",
    "    return salaries_json\n",
    "\n",
    "# test code\n",
    "salaries = '{\"Alfred\" : 300, \"Jane\" : 400 }'\n",
    "new_salaries = add_employee(salaries, \"Me\", 800)\n",
    "decoded_salaries = json.loads(new_salaries)\n",
    "print(decoded_salaries[\"Alfred\"])\n",
    "print(decoded_salaries[\"Jane\"])\n",
    "print(decoded_salaries['Me'])"
   ]
  },
  {
   "cell_type": "code",
   "execution_count": null,
   "metadata": {},
   "outputs": [],
   "source": []
  }
 ],
 "metadata": {
  "kernelspec": {
   "display_name": "Python 3",
   "language": "python",
   "name": "python3"
  },
  "language_info": {
   "codemirror_mode": {
    "name": "ipython",
    "version": 3
   },
   "file_extension": ".py",
   "mimetype": "text/x-python",
   "name": "python",
   "nbconvert_exporter": "python",
   "pygments_lexer": "ipython3",
   "version": "3.7.3"
  }
 },
 "nbformat": 4,
 "nbformat_minor": 2
}
